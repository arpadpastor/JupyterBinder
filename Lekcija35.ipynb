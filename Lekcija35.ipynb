{
 "cells": [
  {
   "cell_type": "markdown",
   "metadata": {},
   "source": [
    "# 3.5. Tabelarni podaci u *Jupyter*-u"
   ]
  },
  {
   "cell_type": "markdown",
   "metadata": {},
   "source": [
    "### Prvi zadatak\n",
    "1. Nа osnovu podataka iz tabele na slici napravi ugnježđenu listu. Nazovi je *Struja*.\n",
    "2. Od liste napravi tabelu (*Data Frame*) pod nazivom *StrujaOsigurača*.\n",
    "3. Prikaži tabelu.\n",
    "4. Umesto indeksa, kolonama dodeli odgovarajuće nazive pa ponovo prikaži tabelu.\n",
    "5. Tabelu sačuvaj u svoj folder kao **CSV** fajl. U **CSV** fajlu ne treba da se nalazi indeksna kolona ali treba da se koriste slova srpske latinice.\n",
    "<table><tr>\n",
    "<td> <img src=\"https://i.imgur.com/E1C3YJn.png\" alt=\"Drawing\" style=\"width: 250px;\"/> </td>\n",
    "</tr></table>"
   ]
  },
  {
   "cell_type": "code",
   "execution_count": null,
   "metadata": {},
   "outputs": [],
   "source": []
  },
  {
   "cell_type": "code",
   "execution_count": null,
   "metadata": {},
   "outputs": [],
   "source": []
  },
  {
   "cell_type": "code",
   "execution_count": null,
   "metadata": {},
   "outputs": [],
   "source": []
  },
  {
   "cell_type": "code",
   "execution_count": null,
   "metadata": {},
   "outputs": [],
   "source": []
  },
  {
   "cell_type": "code",
   "execution_count": null,
   "metadata": {},
   "outputs": [],
   "source": []
  },
  {
   "cell_type": "markdown",
   "metadata": {},
   "source": [
    "### Drugi zadatak\n",
    "1. Nа osnovu podataka iz tabele na slici napravi ugnježđenu listu. Nazovi je *Nemetali*.\n",
    "2. Od liste napravi tabelu pod nazivom *TabelaNemetala*.\n",
    "3. Prikaži tabelu.\n",
    "4. Umesto indeksa, kolonama dodeli odgovarajuće nazive pa ponovo prikaži tabelu.\n",
    "5. Tabelu sačuvaj u svoj folder kao **.txt** fajl. U fajlu ne treba da se nalazi indeksna kolona ali treba da se koriste slova srpske latinice.\n",
    "<table><tr>\n",
    "<td> <img src=\"https://i.imgur.com/MuN2vCs.png\" alt=\"Drawing\" style=\"width: 370px;\"/> </td>\n",
    "</tr></table>"
   ]
  },
  {
   "cell_type": "code",
   "execution_count": null,
   "metadata": {},
   "outputs": [],
   "source": []
  },
  {
   "cell_type": "code",
   "execution_count": null,
   "metadata": {},
   "outputs": [],
   "source": []
  },
  {
   "cell_type": "code",
   "execution_count": null,
   "metadata": {},
   "outputs": [],
   "source": []
  },
  {
   "cell_type": "code",
   "execution_count": null,
   "metadata": {},
   "outputs": [],
   "source": []
  },
  {
   "cell_type": "code",
   "execution_count": null,
   "metadata": {},
   "outputs": [],
   "source": []
  },
  {
   "cell_type": "markdown",
   "metadata": {},
   "source": [
    "### Treći zadatak\n",
    "1. Nа osnovu podataka iz tabele na slici napravi ugnježđenu listu. Nazovi je *Okruzi*.\n",
    "2. Od liste napravi tabelu pod nazivom *UžaSrbija*.\n",
    "3. Prikaži tabelu.\n",
    "4. Umesto indeksa, kolonama dodeli odgovarajuće nazive pa ponovo prikaži tabelu.\n",
    "5. Tabelu sačuvaj u svoj folder kao *Excel*-ov fajl (fajl s ekstenzijom **.xlsx**). U fajlu ne treba da se nalazi indeksna kolona ali treba da se koriste slova srpske latinice.\n",
    "<table><tr>\n",
    "<td> <img src=\"https://i.imgur.com/ueYqpUB.png\" alt=\"Drawing\" style=\"width: 320px;\"/> </td>\n",
    "</tr></table>"
   ]
  },
  {
   "cell_type": "code",
   "execution_count": null,
   "metadata": {},
   "outputs": [],
   "source": []
  },
  {
   "cell_type": "code",
   "execution_count": null,
   "metadata": {},
   "outputs": [],
   "source": []
  },
  {
   "cell_type": "code",
   "execution_count": null,
   "metadata": {},
   "outputs": [],
   "source": []
  },
  {
   "cell_type": "code",
   "execution_count": null,
   "metadata": {},
   "outputs": [],
   "source": []
  },
  {
   "cell_type": "code",
   "execution_count": null,
   "metadata": {},
   "outputs": [],
   "source": []
  },
  {
   "cell_type": "markdown",
   "metadata": {},
   "source": [
    "### Četvrti zadatak\n",
    "1. Nа osnovu podataka iz tabele na slici napravi ugnježđenu listu. Nazovi je *FizickoVaspitanje*.\n",
    "2. Od liste napravi tabelu pod nazivom *Merenja*.\n",
    "3. Prikaži tabelu.\n",
    "4. Umesto indeksa, kolonama dodeli odgovarajuće nazive pa ponovo prikaži tabelu.\n",
    "5. Tabelu sačuvaj u svoj folder kao **CSV** fajl. U **CSV** fajlu ne treba da se nalazi indeksna kolona ali treba da se koriste slova srpske latinice.\n",
    "<table><tr>\n",
    "<td> <img src=\"https://i.imgur.com/dA0vyBF.png\" \"/> </td>\n",
    "</tr></table>"
   ]
  },
  {
   "cell_type": "code",
   "execution_count": null,
   "metadata": {},
   "outputs": [],
   "source": []
  },
  {
   "cell_type": "code",
   "execution_count": null,
   "metadata": {},
   "outputs": [],
   "source": []
  },
  {
   "cell_type": "code",
   "execution_count": null,
   "metadata": {},
   "outputs": [],
   "source": []
  },
  {
   "cell_type": "code",
   "execution_count": null,
   "metadata": {},
   "outputs": [],
   "source": []
  },
  {
   "cell_type": "code",
   "execution_count": null,
   "metadata": {},
   "outputs": [],
   "source": []
  },
  {
   "cell_type": "markdown",
   "metadata": {},
   "source": [
    "### Peti zadatak\n",
    "Na *URL* adresi https://raw.githubusercontent.com/cs109/2014_data/master/countries.csv se nalazi javno dostupan spisak svih država na svetu. \n",
    "- Uvezi tabelu u svesku (sačuvaj je u promenljivu *DržaveSveta*). \n",
    "- Prikaži sadržaj uvezene tabele.\n",
    "- Prikaži sadržaj svih redova."
   ]
  },
  {
   "cell_type": "code",
   "execution_count": null,
   "metadata": {},
   "outputs": [],
   "source": []
  },
  {
   "cell_type": "code",
   "execution_count": null,
   "metadata": {},
   "outputs": [],
   "source": []
  },
  {
   "cell_type": "code",
   "execution_count": null,
   "metadata": {},
   "outputs": [],
   "source": []
  },
  {
   "cell_type": "code",
   "execution_count": null,
   "metadata": {},
   "outputs": [],
   "source": []
  },
  {
   "cell_type": "code",
   "execution_count": null,
   "metadata": {},
   "outputs": [],
   "source": []
  }
 ],
 "metadata": {
  "kernelspec": {
   "display_name": "Python 3",
   "language": "python",
   "name": "python3"
  },
  "language_info": {
   "codemirror_mode": {
    "name": "ipython",
    "version": 3
   },
   "file_extension": ".py",
   "mimetype": "text/x-python",
   "name": "python",
   "nbconvert_exporter": "python",
   "pygments_lexer": "ipython3",
   "version": "3.7.4"
  }
 },
 "nbformat": 4,
 "nbformat_minor": 2
}
