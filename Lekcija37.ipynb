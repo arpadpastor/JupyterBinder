{
 "cells": [
  {
   "cell_type": "markdown",
   "metadata": {},
   "source": [
    "# 3.7. Statističke analize tabelarnih podataka"
   ]
  },
  {
   "cell_type": "markdown",
   "metadata": {},
   "source": [
    "### Prvi zadatak\n",
    "1. Sa našeg *GitHub* repozitorijuma (https://github.com/vulkanznanje/Fajlovi) uvezi tabelu iz **CSV** fajla *Ocene na polugodištu*. Sačuvaj je u promenljivu *UspehUčenika* pa prikaži njen sadržaj.\n",
    "2. Odredi najmanju i najveću ocenu iz Istorije, Biologije i Geografije. Svaku funkciju primeni u posebnoj ćeliji.\n",
    "3. Odredi prosečne ocene iz Likovnog, Muzičkog i Fizičkog. Sačuvaj ih u promenljive. Prikaži sve dobijene vrednosti zaokružene na dve decimale u jednoj ćeliji. Prikazima rezultata dodaj kratke tekstualne opise.\n",
    "4. Nad podacima iz kolone *Engleski* izvrši frekvencijsku analizu. Isto uradi sa podacima iz kolone *Nemački* pa uporedi dobijene rezultate.\n",
    "5. Koristeći naredbe uslovne statistike prikaži odgovore na sledeća pitanja:\n",
    " - Koliko je učenica koje se zovu Milica? \n",
    " - Koja je prosečna ocena učenika iz fizike za učenike koji imaju četvorku iz matematike?\n",
    " - Koja je prosečna ocena učenika iz hemije za učenike koji imaju manje ocene od trojke iz fizike?"
   ]
  },
  {
   "cell_type": "code",
   "execution_count": null,
   "metadata": {},
   "outputs": [],
   "source": []
  },
  {
   "cell_type": "code",
   "execution_count": null,
   "metadata": {},
   "outputs": [],
   "source": []
  },
  {
   "cell_type": "code",
   "execution_count": null,
   "metadata": {},
   "outputs": [],
   "source": []
  },
  {
   "cell_type": "code",
   "execution_count": null,
   "metadata": {},
   "outputs": [],
   "source": []
  },
  {
   "cell_type": "markdown",
   "metadata": {},
   "source": [
    "### Drugi zadatak\n",
    "1. Sa našeg *GitHub* repozitorijuma (https://github.com/vulkanznanje/Fajlovi) uvezi tabelu iz **CSV** fajla *Gradovi*. Sačuvaj je u promenljivu *Grad* pa prikaži njen sadržaj.\n",
    "2. Nad podacima iz kolone *Šire područje* izvrši frekvencijsku analizu (podatke podeli u tri intervala - *Mali*, *Srednji* i *Veliki*). Rezultate prikaži kao apsolutne i kao relativne vrednosti (procente). Rezultat u prcentima zaokruži na dve decimale.\n",
    " - Intervalu *Mali* pripadaju gradovi koji imaju manje od 80000 stanovnika.\n",
    " - Intervalu *Srednji* pripadaju gradovi koji imaju između 80000 и 120000 stanovnika.\n",
    " - Intervalu *Veliki* pripadaju gradovi koji imaju više od 120000 stanovnika.\n",
    "3. Koristeći naredbe uslovne statistike prikaži odgovore na sledeća pitanja:\n",
    " - Koliki je prosečan broj stanovnika u užem području za gradove koji imaju više od 100000 stanovnika u širem području?\n",
    " - Koji je najveći broj stanovnika u širem području za gradove koji imaju manje od 50000 stanovnika u užem području? \n",
    " - Koliko ukupno stanovnika u širem području imaju gradovi koji imaju više od 200000 stanovnika u širem području?\n",
    "4. Tabeli dodaj novu kolonu pod nazivom *Selo*. U njoj oduzmi vrednosti iz kolone *Uže područje* od vrednosti iz kolone *Šire područje*."
   ]
  },
  {
   "cell_type": "code",
   "execution_count": null,
   "metadata": {},
   "outputs": [],
   "source": []
  },
  {
   "cell_type": "code",
   "execution_count": null,
   "metadata": {},
   "outputs": [],
   "source": []
  },
  {
   "cell_type": "code",
   "execution_count": null,
   "metadata": {},
   "outputs": [],
   "source": []
  },
  {
   "cell_type": "code",
   "execution_count": null,
   "metadata": {},
   "outputs": [],
   "source": []
  },
  {
   "cell_type": "markdown",
   "metadata": {},
   "source": [
    "### Treći zadatak\n",
    "1. Sa našeg *GitHub* repozitorijuma (https://github.com/vulkanznanje/Fajlovi) uvezi tabelu iz **CSV** fajla *Reke u Srbiji*. Sačuvaj je u promenljivu *RekeSrbije* i prikaži njen sadržaj.\n",
    "3. Koristeći naredbe uslovne statistike prikaži odgovore na sledeća pitanja:\n",
    " - Koliko ima reka čija je dužina veća od 1000 km?\n",
    " - Koliko ima reka čija je površina manja od 10000 km^2?\n",
    " - Kolika je prosečna površina reka čija je dužina manja od 200 km?\n",
    " - Koliko iznosi najmanja površina reke čija je dužina veća od 400 km?\n",
    " - Koliko iznosi najveća površina reke čija je dužina manja od 300 km?\n",
    " - Koliko iznosi zbir dužina reka čija je površina manja od 10000 km^2?"
   ]
  },
  {
   "cell_type": "code",
   "execution_count": null,
   "metadata": {},
   "outputs": [],
   "source": []
  },
  {
   "cell_type": "code",
   "execution_count": null,
   "metadata": {},
   "outputs": [],
   "source": []
  },
  {
   "cell_type": "code",
   "execution_count": null,
   "metadata": {},
   "outputs": [],
   "source": []
  },
  {
   "cell_type": "code",
   "execution_count": null,
   "metadata": {},
   "outputs": [],
   "source": []
  },
  {
   "attachments": {
    "Mesecna%20potrosnja%20struje.png": {
     "image/png": "[encoded data removed]"
    }
   },
   "cell_type": "markdown",
   "metadata": {},
   "source": [
    "### Četvrti zadatak\n",
    "1. Sa našeg *GitHub* repozitorijuma (https://github.com/vulkanznanje/Fajlovi) uvezi tabelu iz **CSV** fajla *Mesečna potrošnja struje*. Sačuvaj je u promenljivu *MesečnaPotrošnja* pa prikaži njen sadržaj.\n",
    "2. Odredi najmanju vrednost u koloni Snaga [w], najveću u koloni Potrošnja [kwh] i ukupnu u koloni Cena [RSD]. Prikaži ih u jednoj ćeliji uz kratke opise.\n",
    "3. U tabelu dodaj 3 nove kolone kao na slici. Pomoću odgovarajućih formula izračunaj prosečno vreme rada datih uređaja u toku meseca, potrošnju električne energije na mesečnom nivou i cenu u dinarima. Cena struje je 5.96 din/kwh. \n",
    "\n",
    "![Mesecna%20potrosnja%20struje.png](attachment:Mesecna%20potrosnja%20struje.png)"
   ]
  },
  {
   "cell_type": "code",
   "execution_count": null,
   "metadata": {},
   "outputs": [],
   "source": []
  },
  {
   "cell_type": "code",
   "execution_count": null,
   "metadata": {},
   "outputs": [],
   "source": []
  },
  {
   "cell_type": "code",
   "execution_count": null,
   "metadata": {},
   "outputs": [],
   "source": []
  },
  {
   "cell_type": "code",
   "execution_count": null,
   "metadata": {},
   "outputs": [],
   "source": []
  },
  {
   "cell_type": "markdown",
   "metadata": {},
   "source": [
    "### Peti zadatak\n",
    "1. Sa našeg *GitHub* repozitorijuma (https://github.com/vulkanznanje/Fajlovi) uvezi tabelu iz **CSV** fajla *Planine u Srbiji*. Sačuvaj je u promenljivu *PlanineSrbije* i prikaži njen sadržaj.\n",
    "2. Koristeći naredbe uslovne statistike prikaži odgovore na sledeća pitanja:\n",
    " - Koliko ima vrhova viših od 2000 m?\n",
    " - Koliko ima vrhova nižih od 1000 m?\n",
    " - Kolika je prosečna visina vrhova viših od 1500 m?\n",
    " - Kolika je najmanja visina vrha na Šar-planini? \n",
    " - Kolika je najveća visina vrha na Prokletijama?\n",
    " - Koliko iznosi zbir visina vrhova na Šar-planini?\n",
    " - Koliko ima vrhova na Zlatiboru?\n",
    "3. Sortiraj tabelu po nazivu planine u neopadajućem pa po visini vrhova u nerastućem redosledu. Rezultat sačuvaj u novu promenljivu."
   ]
  },
  {
   "cell_type": "code",
   "execution_count": null,
   "metadata": {},
   "outputs": [],
   "source": []
  },
  {
   "cell_type": "code",
   "execution_count": null,
   "metadata": {},
   "outputs": [],
   "source": []
  },
  {
   "cell_type": "code",
   "execution_count": null,
   "metadata": {},
   "outputs": [],
   "source": []
  },
  {
   "cell_type": "code",
   "execution_count": null,
   "metadata": {},
   "outputs": [],
   "source": []
  }
 ],
 "metadata": {
  "kernelspec": {
   "display_name": "Python 3",
   "language": "python",
   "name": "python3"
  },
  "language_info": {
   "codemirror_mode": {
    "name": "ipython",
    "version": 3
   },
   "file_extension": ".py",
   "mimetype": "text/x-python",
   "name": "python",
   "nbconvert_exporter": "python",
   "pygments_lexer": "ipython3",
   "version": "3.7.4"
  }
 },
 "nbformat": 4,
 "nbformat_minor": 2
}
