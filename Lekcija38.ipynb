{
 "cells": [
  {
   "cell_type": "markdown",
   "metadata": {},
   "source": [
    "# 3.8. Grupna statistika"
   ]
  },
  {
   "cell_type": "markdown",
   "metadata": {},
   "source": [
    "***Pokreni kod iz naredne 4 ćelije pa pređi na izradu zadataka koji se nalaze ispod.***"
   ]
  },
  {
   "cell_type": "code",
   "execution_count": 1,
   "metadata": {},
   "outputs": [],
   "source": [
    "import pandas as pd"
   ]
  },
  {
   "cell_type": "code",
   "execution_count": 2,
   "metadata": {},
   "outputs": [],
   "source": [
    "Ocene = [[\"Anja\",     \"Veljković\",     4,3,5,5,5,4,3,3,5,3,5,5,3,5,5],\n",
    "         [\"Luka\",     \"Duković\",       2,4,3,5,2,2,3,2,3,2,4,4,2,5,5],\n",
    "         [\"Nikola\",   \"Zekavica\",      1,2,3,4,1,2,2,2,2,2,1,4,2,3,5],\n",
    "         [\"Isidora\",  \"Zekavica\",      5,5,5,1,5,5,3,4,5,4,5,5,4,5,5],\n",
    "         [\"Mihailo\",  \"Ivančević\",     4,3,3,5,3,2,2,2,4,3,4,5,3,5,5],\n",
    "         [\"Marta\",    \"Ilić\",          5,5,5,5,5,5,5,5,5,5,5,5,5,5,5],\n",
    "         [\"Teodora\",  \"Jagličić\",      4,4,5,5,4,4,4,4,5,3,5,5,4,5,5],\n",
    "         [\"Ana\",      \"Kanjevac\",      5,5,5,5,5,5,5,5,5,5,5,5,5,5,5],\n",
    "         [\"Nikola\",   \"Kezović\",       5,5,5,5,5,5,5,5,5,5,5,5,5,5,5],\n",
    "         [\"Andrija\",  \"Knežević\",      5,4,5,5,5,5,4,4,5,4,5,5,5,5,5],\n",
    "         [\"Jana\",     \"Kovačević\",     5,5,5,5,5,5,5,5,5,5,5,1,5,5,5],\n",
    "         [\"Marko\",    \"Milinković\",    4,4,3,5,4,4,4,3,4,2,5,5,4,5,5],\n",
    "         [\"Đorđe\",    \"Laković\",       5,5,5,5,5,5,5,5,5,5,5,5,5,5,5],\n",
    "         [\"Silvija\",  \"Maslarević\",    4,5,5,5,5,5,3,3,5,4,5,5,4,5,5],\n",
    "         [\"Magdalena\",\"Milić\",         3,2,1,5,3,3,4,2,4,2,4,5,2,1,5],\n",
    "         [\"Pavle\",    \"Milosavljević\", 4,5,5,5,5,5,4,4,5,4,5,5,5,5,5],\n",
    "         [\"Olivera\",  \"Obradović\",     5,5,5,5,5,5,4,4,5,4,5,5,5,5,5],\n",
    "         [\"Lazar\",    \"Parezanović\",   5,5,5,5,5,5,4,4,5,4,5,5,5,5,5],\n",
    "         [\"Veljko\",   \"Petrović\",      5,5,5,5,5,5,5,5,5,5,5,5,5,5,5],\n",
    "         [\"Milica\",   \"Polužić\",       5,5,5,5,5,5,5,5,5,5,5,5,5,5,5],\n",
    "         [\"Teodora\",  \"Popović\",       5,5,5,5,5,5,5,5,5,5,5,5,5,5,5],\n",
    "         [\"Milica\",   \"Radičević\",     5,3,5,5,5,5,5,3,5,4,5,5,4,5,5],\n",
    "         [\"Vukašin\",  \"Radonjić\",      5,5,5,5,5,5,5,5,5,5,5,5,5,5,5],\n",
    "         [\"Bogdan\",   \"Rečević\",       4,3,4,5,3,2,3,2,4,2,5,5,3,5,5],\n",
    "         [\"Milica\",   \"Soldatović\",    4,2,5,5,5,5,3,3,5,4,5,5,3,5,5],\n",
    "         [\"Nikola\",   \"Ćosović\",       3,2,5,5,3,3,2,3,4,2,5,5,2,5,5],\n",
    "         [\"Damir\",    \"Špajaković\",    3,3,4,5,2,3,3,2,4,3,5,5,3,5,5],\n",
    "         [\"Vuk\",      \"Bogdanović\",    3,3,4,5,3,2,3,2,4,2,5,1,3,5,5]]"
   ]
  },
  {
   "cell_type": "code",
   "execution_count": 3,
   "metadata": {},
   "outputs": [],
   "source": [
    "Uspeh = pd.DataFrame(Ocene)"
   ]
  },
  {
   "cell_type": "code",
   "execution_count": 4,
   "metadata": {},
   "outputs": [],
   "source": [
    "Uspeh.columns = [\"Ime\", \"Prezime\", \"Srpski\", \"Engleski\", \"Istorija\", \"Geografija\", \"Biologija\", \"Matematika\",\n",
    "                  \"Fizika\", \"Hemija\", \"IiR\", \"TiT\", \"Likovno\", \"Muzičko\", \"Fizičko\", \"Nemački\", \"Vladanje\"]"
   ]
  },
  {
   "cell_type": "markdown",
   "metadata": {},
   "source": [
    "### Prvi zadatak\n",
    "U tabeli *Uspeh* označi sve redove i kolone u kojima se nalaze predmeti koji se polažu na kombinovanom završnom ispitu. Izdvoj ih u posebnu promenljivu pod nazivom *Kombinovani* a zatim prikaži njen sadržaj."
   ]
  },
  {
   "cell_type": "code",
   "execution_count": null,
   "metadata": {},
   "outputs": [],
   "source": []
  },
  {
   "cell_type": "code",
   "execution_count": null,
   "metadata": {},
   "outputs": [],
   "source": []
  },
  {
   "cell_type": "code",
   "execution_count": null,
   "metadata": {},
   "outputs": [],
   "source": []
  },
  {
   "cell_type": "code",
   "execution_count": null,
   "metadata": {},
   "outputs": [],
   "source": []
  },
  {
   "cell_type": "markdown",
   "metadata": {},
   "source": [
    "### Drugi zadatak\n",
    "1. U tabeli *Uspeh* označi parne redove i sve kolone. Izdvoj ih u promenljivu pod nazivom *ParniUčenici*.\n",
    "2. U tabeli *Uspeh* označi neparne redove i sve kolone. Izdvoj ih u promenljivu pod nazivom *NeparniUčenici*.\n",
    "3. Prikaži nove tabele sačuvane u promenljivama *ParniUčenici* i *NeparniUčenici*."
   ]
  },
  {
   "cell_type": "code",
   "execution_count": null,
   "metadata": {},
   "outputs": [],
   "source": []
  },
  {
   "cell_type": "code",
   "execution_count": null,
   "metadata": {},
   "outputs": [],
   "source": []
  },
  {
   "cell_type": "code",
   "execution_count": null,
   "metadata": {},
   "outputs": [],
   "source": []
  },
  {
   "cell_type": "code",
   "execution_count": null,
   "metadata": {},
   "outputs": [],
   "source": []
  },
  {
   "cell_type": "markdown",
   "metadata": {},
   "source": [
    "### Treći zadatak\n",
    "1. U tabelu *Uspeh* dodaj 4 nova reda: Najmanja ocena, Najveća ocena, Prosek i Zbir ocena.\n",
    "2. U njima izračunaj odgovarajuće statističke pokazatelje za svaki predmet.\n",
    " - prosek zaokruži na 2 decimale"
   ]
  },
  {
   "cell_type": "code",
   "execution_count": null,
   "metadata": {},
   "outputs": [],
   "source": []
  },
  {
   "cell_type": "code",
   "execution_count": null,
   "metadata": {},
   "outputs": [],
   "source": []
  },
  {
   "cell_type": "code",
   "execution_count": null,
   "metadata": {},
   "outputs": [],
   "source": []
  },
  {
   "cell_type": "code",
   "execution_count": null,
   "metadata": {},
   "outputs": [],
   "source": []
  },
  {
   "cell_type": "markdown",
   "metadata": {},
   "source": [
    "### Četvrti zadatak\n",
    "1. Iz tabele *Uspeh* obriši redove Najmanja ocena, Najveća ocena, Prosek i Zbir ocena. \n",
    "2. Prikaži tabelu."
   ]
  },
  {
   "cell_type": "code",
   "execution_count": null,
   "metadata": {},
   "outputs": [],
   "source": []
  },
  {
   "cell_type": "code",
   "execution_count": null,
   "metadata": {},
   "outputs": [],
   "source": []
  },
  {
   "cell_type": "code",
   "execution_count": null,
   "metadata": {},
   "outputs": [],
   "source": []
  },
  {
   "cell_type": "code",
   "execution_count": null,
   "metadata": {},
   "outputs": [],
   "source": []
  },
  {
   "cell_type": "markdown",
   "metadata": {},
   "source": [
    "### Peti zadatak\n",
    "1. Tabelu *Uspeh* indeksiraj po imenima učenika i sačuvaj je u promenljivu *IndeksUspeha*. \n",
    "2. Prikaži tabelu *IndeksUspeha*.\n",
    "3. Korišćenjem funkcje **loc** prikaži ocene svih učenica po imenu **Milica**. \n",
    "4. Korišćenjem funkcje **loc** prikaži ocene svih učenica po imenu **Milica** samo za predmete koji se polažu na kombinovanom ispitu.\n",
    "5. Iz tabele *Uspeh* izdvoj učenice koje se zovu Milica i rezultat sačuvaj u promenljivoj *Milice*. \n",
    "2. Iz tabele *Milice* pomoću funkcije **drop** obriši kolone u kojima se ne nalaze predmeti koji se polažu na kombinovanom završnom ispitu. \n",
    "3. U Tabelu *Milice* dodaj kolonu *Prosek*. Pomoću odgovarajuće formule izračunaj prosek svih Milica a rezultat sačuvaj u promenljivoj *ProsekMilice* a potom ga prikaži."
   ]
  },
  {
   "cell_type": "code",
   "execution_count": null,
   "metadata": {},
   "outputs": [],
   "source": []
  },
  {
   "cell_type": "code",
   "execution_count": null,
   "metadata": {},
   "outputs": [],
   "source": []
  },
  {
   "cell_type": "code",
   "execution_count": null,
   "metadata": {},
   "outputs": [],
   "source": []
  },
  {
   "cell_type": "code",
   "execution_count": null,
   "metadata": {},
   "outputs": [],
   "source": []
  },
  {
   "cell_type": "markdown",
   "metadata": {},
   "source": [
    "### Šesti zadatak\n",
    "1. U početnu tabelu *Uspeh* dodaj 3 nova reda: Najmanja ocena, Najveća ocena i Prosek.\n",
    "2. U njima izračunaj odgovarajuće statističke pokazatelje za sve redove u opsegu kolona *Istorija:Likovno*. Koristi isključivo funkiciju **loc**."
   ]
  },
  {
   "cell_type": "code",
   "execution_count": null,
   "metadata": {},
   "outputs": [],
   "source": []
  },
  {
   "cell_type": "code",
   "execution_count": null,
   "metadata": {},
   "outputs": [],
   "source": []
  },
  {
   "cell_type": "code",
   "execution_count": null,
   "metadata": {},
   "outputs": [],
   "source": []
  },
  {
   "cell_type": "code",
   "execution_count": null,
   "metadata": {},
   "outputs": [],
   "source": []
  },
  {
   "cell_type": "markdown",
   "metadata": {},
   "source": [
    "### Sedmi zadatak\n",
    "U tabelu *Uspeh* dodaj kolonu *Prosek* i u njoj izračunaj prosek svakog učenika."
   ]
  },
  {
   "cell_type": "code",
   "execution_count": null,
   "metadata": {},
   "outputs": [],
   "source": []
  },
  {
   "cell_type": "code",
   "execution_count": null,
   "metadata": {},
   "outputs": [],
   "source": []
  },
  {
   "cell_type": "code",
   "execution_count": null,
   "metadata": {},
   "outputs": [],
   "source": []
  },
  {
   "cell_type": "code",
   "execution_count": null,
   "metadata": {},
   "outputs": [],
   "source": []
  },
  {
   "cell_type": "markdown",
   "metadata": {},
   "source": [
    "### Osmi zadatak\n",
    "\n",
    "1. Iz tabele *Uspeh* izdvoj učenike koji se prezivaju Zekavica. Rezultat sačuvaj u promenljivoj *Blizanci* a potom prikaži te učenike.\n",
    "2. U tabeli *Blizanci* dodaj red *ProsekPredmeta* i kolonu *ProsekUčenika*. Izračunaj prosek učenika po predmetu i prosek za oba učenika, a potom prikaži tabelu *Blizanci*."
   ]
  },
  {
   "cell_type": "code",
   "execution_count": null,
   "metadata": {},
   "outputs": [],
   "source": []
  },
  {
   "cell_type": "code",
   "execution_count": null,
   "metadata": {},
   "outputs": [],
   "source": []
  },
  {
   "cell_type": "code",
   "execution_count": null,
   "metadata": {},
   "outputs": [],
   "source": []
  },
  {
   "cell_type": "code",
   "execution_count": null,
   "metadata": {},
   "outputs": [],
   "source": []
  },
  {
   "cell_type": "markdown",
   "metadata": {},
   "source": [
    "### Deveti zadatak\n",
    "1. Restartuj sve ćelije tako da ni jedna ne bude pokrenuta.\n",
    "2. Pokreni prve 4 ćelije sa kodom.\n",
    "3. U tabelu *Uspeh* dodaj kolonu *Prosek* i u njoj izračunaj prosek svakog učenika. Rezultat sačuvaj u promenljivoj *ProsekUčenika* a potom ga prikaži.\n",
    "2. Tabelu *ProsekUčenika* sortiraj po koloni *Prosek* u nerastućem redosledu. Rezultat sačuvaj u promenljivoj *ProsekUčenikaSort* a potom ga prikaži.\n",
    "3. Iz Tabele *ProsekUčenikaSort* izdvoj prvih 10 učenika koristeći funkciju **head**. Rezultat sačuvaj u promenljivoj *Prvih10* a potom ga prikaži.\n",
    "4. U tabelu *Prvih10* dodaj red *ProsekPredmeta*. Izračunaj prosek učenika po predmetima a rezultat sačuvaj u promenljivoj *UspehPrvih10* a potom ga prikaži.\n",
    "5. Iz Tabele *ProsekUčenikaSort* izdvoj poslednjih 5 učenika koristeći funkciju **tail**. Rezultat sačuvaj u promenljivoj *Poslednjih5* a potom ga prikaži.\n",
    "6. U tabelu *Poslednjih5* dodaj red *ProsekPredmeta*. Izračunaj prosek učenika po predmetima i rezultat sačuvaj u promenljivoj *UspehPoslednjih5* a potom ga prikaži."
   ]
  }
 ],
 "metadata": {
  "kernelspec": {
   "display_name": "Python 3",
   "language": "python",
   "name": "python3"
  },
  "language_info": {
   "codemirror_mode": {
    "name": "ipython",
    "version": 3
   },
   "file_extension": ".py",
   "mimetype": "text/x-python",
   "name": "python",
   "nbconvert_exporter": "python",
   "pygments_lexer": "ipython3",
   "version": "3.7.4"
  }
 },
 "nbformat": 4,
 "nbformat_minor": 2
}
