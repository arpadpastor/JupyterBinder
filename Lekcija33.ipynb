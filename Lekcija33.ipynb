{
 "cells": [
  {
   "cell_type": "markdown",
   "metadata": {},
   "source": [
    "# 3.3. Radno okruženje *Jupyter Notebook*-a"
   ]
  },
  {
   "attachments": {},
   "cell_type": "markdown",
   "metadata": {},
   "source": [
    "### Prvi zadatak\n",
    "Na slici je prikazano nekoliko ostrva. Tačkama A, B i C označene su luke, a linijama trase kojima plove brodovi od luke do luke.\n",
    "1. Korišćenjem funkcija iz biblioteke **math** izračunaj najkraće rastojanje od luke A do luke B.\n",
    "2. Korišćenjem operatora za stepenovanje i funkcije iz biblioteke **math** izračunaj najkraće rastojanje od luke A do luke B.\n",
    "![01](https://i.imgur.com/wEND3Wt.png)\n"
   ]
  },
  {
   "cell_type": "code",
   "execution_count": null,
   "metadata": {},
   "outputs": [],
   "source": []
  },
  {
   "cell_type": "code",
   "execution_count": null,
   "metadata": {},
   "outputs": [],
   "source": []
  },
  {
   "cell_type": "code",
   "execution_count": null,
   "metadata": {},
   "outputs": [],
   "source": []
  },
  {
   "cell_type": "code",
   "execution_count": null,
   "metadata": {},
   "outputs": [],
   "source": []
  },
  {
   "attachments": {},
   "cell_type": "markdown",
   "metadata": {},
   "source": [
    "### Drugi zadatak\n",
    "Na slici je prikazan jednakokraki trapez čije su osnovice 7 cm i 23 cm, a krak dužine 17 cm.\n",
    "Izračunaj njegovu površinu.\n",
    "<table><tr>\n",
    "<td> <img src=https://i.imgur.com/STw6H7r.png alt=\"Drawing\" style=\"width: 250px;\"/> </td>\n",
    "</tr></table>"
   ]
  },
  {
   "cell_type": "code",
   "execution_count": null,
   "metadata": {},
   "outputs": [],
   "source": []
  },
  {
   "cell_type": "code",
   "execution_count": null,
   "metadata": {},
   "outputs": [],
   "source": []
  },
  {
   "cell_type": "code",
   "execution_count": null,
   "metadata": {},
   "outputs": [],
   "source": []
  },
  {
   "cell_type": "code",
   "execution_count": null,
   "metadata": {},
   "outputs": [],
   "source": []
  },
  {
   "attachments": {},
   "cell_type": "markdown",
   "metadata": {},
   "source": [
    "### Treći zadatak\n",
    "Na slici je prikazana pravilna trostrana prizma čija je osnovica 12cm, a visina prizme 10cm.\n",
    "Izračunaj njenu površinu. \n",
    "<table><tr>\n",
    "<td> <img src=https://i.imgur.com/IairU7p.png alt=\"Drawing\" style=\"width: 150px;\"/> </td>\n",
    "</tr></table>"
   ]
  },
  {
   "cell_type": "code",
   "execution_count": null,
   "metadata": {},
   "outputs": [],
   "source": []
  },
  {
   "cell_type": "code",
   "execution_count": null,
   "metadata": {},
   "outputs": [],
   "source": []
  },
  {
   "cell_type": "code",
   "execution_count": null,
   "metadata": {},
   "outputs": [],
   "source": []
  },
  {
   "cell_type": "code",
   "execution_count": null,
   "metadata": {},
   "outputs": [],
   "source": []
  },
  {
   "attachments": {},
   "cell_type": "markdown",
   "metadata": {},
   "source": [
    "### Četvrti zadatak\n",
    "Na slici je prikazana pravilna četvorostrana piramida čija je osnovica a = 12 cm, a visina piramide H = 10 cm.\n",
    "Izračunaj njenu površinu i zapreminu.\n",
    "<table><tr>\n",
    "<td> <img src=https://i.imgur.com/I5J495G.png alt=\"Drawing\" style=\"width: 250px;\"/> </td>\n",
    "</tr></table>\n",
    "\n",
    " "
   ]
  },
  {
   "cell_type": "code",
   "execution_count": null,
   "metadata": {},
   "outputs": [],
   "source": []
  },
  {
   "cell_type": "code",
   "execution_count": null,
   "metadata": {},
   "outputs": [],
   "source": []
  },
  {
   "cell_type": "code",
   "execution_count": null,
   "metadata": {},
   "outputs": [],
   "source": []
  },
  {
   "cell_type": "code",
   "execution_count": null,
   "metadata": {},
   "outputs": [],
   "source": []
  }
 ],
 "metadata": {
  "kernelspec": {
   "display_name": "Python 3",
   "language": "python",
   "name": "python3"
  },
  "language_info": {
   "codemirror_mode": {
    "name": "ipython",
    "version": 3
   },
   "file_extension": ".py",
   "mimetype": "text/x-python",
   "name": "python",
   "nbconvert_exporter": "python",
   "pygments_lexer": "ipython3",
   "version": "3.7.4"
  }
 },
 "nbformat": 4,
 "nbformat_minor": 2
}
