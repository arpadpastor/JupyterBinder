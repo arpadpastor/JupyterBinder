{
 "cells": [
  {
   "cell_type": "markdown",
   "metadata": {},
   "source": [
    "# 3.4. Analize pojedinačnih serija podataka"
   ]
  },
  {
   "cell_type": "markdown",
   "metadata": {},
   "source": [
    "### Prvi zadatak\n",
    "1. Napravi listu *Temperature* sa sledećim elementima: 3, 3.5, 7.5, 12.5, 17, 20, 22.5, 22.5, 19, 14, 9, 4. \n",
    "2. Izračunaj prosečnu vrednost i sačuvaj je u promenlјivoj *Prosek*.\n",
    "3. Ispiši vrednost promenlјive *Prosek*  zaokruženu na dve decimale.\n",
    "4. Sortiraj listu prvo u opadajućem, a zatim i u rastućem redosledu.\n",
    "5. Prikaži najmanju, a zatim i najveću temperaturu uz kratke tekstualne opise."
   ]
  },
  {
   "cell_type": "code",
   "execution_count": null,
   "metadata": {},
   "outputs": [],
   "source": []
  },
  {
   "cell_type": "code",
   "execution_count": null,
   "metadata": {},
   "outputs": [],
   "source": []
  },
  {
   "cell_type": "code",
   "execution_count": null,
   "metadata": {},
   "outputs": [],
   "source": []
  },
  {
   "cell_type": "code",
   "execution_count": null,
   "metadata": {},
   "outputs": [],
   "source": []
  },
  {
   "cell_type": "markdown",
   "metadata": {},
   "source": [
    "### Drugi zadatak\n",
    "Na internetu pronađi podatke o visini najviših vrhova planina: *Zlatibor, Golija, Tara, Ovčar, Kablar, Jelica, Maljen, Suvobor, Rudnik*. \n",
    "- Sačuvaj ih u listu pod nazivom *VrhoviSrbije*. \n",
    "- Od liste napravi seriju podataka pod nazivom *Vrhovi*. \n",
    "- Pomoću odgovarajućih funkcija odredi i prikaži prosečnu visinu datih vrhova, najniži i najviši vrh. \n",
    "- U novu promenljivu izdvoj samo vrhove niže od 1000 m."
   ]
  },
  {
   "cell_type": "code",
   "execution_count": null,
   "metadata": {},
   "outputs": [],
   "source": []
  },
  {
   "cell_type": "code",
   "execution_count": null,
   "metadata": {},
   "outputs": [],
   "source": []
  },
  {
   "cell_type": "code",
   "execution_count": null,
   "metadata": {},
   "outputs": [],
   "source": []
  },
  {
   "cell_type": "code",
   "execution_count": null,
   "metadata": {},
   "outputs": [],
   "source": []
  },
  {
   "cell_type": "markdown",
   "metadata": {},
   "source": [
    "### Treći zadatak\n",
    "Na internetu pronađi podatke o dužini reka: *Dunav, Sava, Drina, Zapadna Morava, Južna Morava, Tisa, Ibar, Lepenica, Đetinja, i Lim*. \n",
    "- Od podataka napravi listu pod nazivom *RekeSrbije*. \n",
    "- Od liste napravi seriju podataka *RekeKM*. \n",
    "- Iz serije *RekeKM* izdvoj samo one duže od 300 km i sačuvaj ih u promenljivu *VelikeReke*\n",
    "- Seriju *RekeKM* preslikaj u seriju *RekeM* u kojoj će podaci biti izraženi u metrima. \n",
    "- Seriju *RekeM* sortiraj u rastućem redosledu."
   ]
  },
  {
   "cell_type": "code",
   "execution_count": null,
   "metadata": {},
   "outputs": [],
   "source": []
  },
  {
   "cell_type": "code",
   "execution_count": null,
   "metadata": {},
   "outputs": [],
   "source": []
  },
  {
   "cell_type": "code",
   "execution_count": null,
   "metadata": {},
   "outputs": [],
   "source": []
  },
  {
   "cell_type": "code",
   "execution_count": null,
   "metadata": {},
   "outputs": [],
   "source": []
  },
  {
   "cell_type": "markdown",
   "metadata": {},
   "source": [
    "### Četvrti zadatak\n",
    "Napravi listu *Novac* sa sledećim podacima 750, 700, 1040, 950, 830, 1180, 790, 1000.\n",
    "- Od liste napravi seriju podataka *Džeparac*.\n",
    "- Seriju *Džeparac* preslikaj u četiri nove serije pod nazivima *DžeparacEvri*, *DžeparacDolari*, *DžeparacFranci* и *DžeparacFunte*. Dinarski iznosi džeparca treba da u novim serijama budu pretvoreni u odgovarajuće valute.\n",
    "- Prikaži vrednosti iz novih serija uz prateći tekst."
   ]
  },
  {
   "cell_type": "code",
   "execution_count": null,
   "metadata": {},
   "outputs": [],
   "source": []
  },
  {
   "cell_type": "code",
   "execution_count": null,
   "metadata": {},
   "outputs": [],
   "source": []
  },
  {
   "cell_type": "code",
   "execution_count": null,
   "metadata": {},
   "outputs": [],
   "source": []
  },
  {
   "cell_type": "code",
   "execution_count": null,
   "metadata": {},
   "outputs": [],
   "source": []
  }
 ],
 "metadata": {
  "kernelspec": {
   "display_name": "Python 3",
   "language": "python",
   "name": "python3"
  },
  "language_info": {
   "codemirror_mode": {
    "name": "ipython",
    "version": 3
   },
   "file_extension": ".py",
   "mimetype": "text/x-python",
   "name": "python",
   "nbconvert_exporter": "python",
   "pygments_lexer": "ipython3",
   "version": "3.7.4"
  }
 },
 "nbformat": 4,
 "nbformat_minor": 2
}
