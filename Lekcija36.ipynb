{
 "cells": [
  {
   "cell_type": "markdown",
   "metadata": {},
   "source": [
    "# 3.6. Sortiranje i filtriranje tabele"
   ]
  },
  {
   "cell_type": "markdown",
   "metadata": {},
   "source": [
    "### Prvi zadatak\n",
    "1. Sa našeg *GitHub* repozitorijuma (https://github.com/vulkanznanje/Fajlovi) uvezi tabelu iz **CSV** fajla *Mesečna potrošnja struje*. Sačuvaj je u promenljivu *SnagaUređaja* i prikaži njen sadržaj.\n",
    "2. Tabelu sortiraj po koloni *Uređaj* u rastućem redosledu.\n",
    "3. Tabelu sortiraj po koloni *Snaga* u nerastućem redosledu i rezultat obrade sačuvaj u promenljivu pod nazivom *SortSnaga*. Prikaži obrađenu tabelu.\n",
    "4. Tabelu *SnagaUređaja* sortiraj po koloni *Snaga* u neopadajućem pa po koloni *Prosečno vreme rada u toku dana* u nerastućem redosledu. Ovako sortiranu tabelu sačuvaj pod nazivom *DveKolone*.\n",
    "5. Iz tabele *SnagaUređaja* izdvoj uređaje koji imaju snagu manju od 1000 W. Rezultat sačuvaj u promenljivoj *MaliPotrošači* a potom prikaži te uređaje.\n",
    "6. Iz tabele *SnagaUređaja* izdvoj uređaje koji imaju snagu od 2000 W. Rezultat sačuvaj u promenljivoj *Potrošači2KW* a potom prikaži te uređaje.\n",
    "7. Iz tabele *SnagaUređaja* izdvoj potrošače čija je snaga veća od 2000 W i čije je prosečno vreme rada u toku dana veće od 1.5 h. Rezultat sačuvaj u promenljivoj *VećiPotrošači* a potom prikaži te uređaje."
   ]
  },
  {
   "cell_type": "code",
   "execution_count": null,
   "metadata": {},
   "outputs": [],
   "source": []
  },
  {
   "cell_type": "code",
   "execution_count": null,
   "metadata": {},
   "outputs": [],
   "source": []
  },
  {
   "cell_type": "code",
   "execution_count": null,
   "metadata": {},
   "outputs": [],
   "source": []
  },
  {
   "cell_type": "code",
   "execution_count": null,
   "metadata": {},
   "outputs": [],
   "source": []
  },
  {
   "cell_type": "markdown",
   "metadata": {},
   "source": [
    "### Drugi zadatak\n",
    "1. Sa našeg *GitHub* repozitorijuma (https://github.com/vulkanznanje/Fajlovi) uvezi tabelu iz **CSV** fajla *Gradovi*. Sačuvaj je u promenljivu *BrojStanovnika* i prikaži njen sadržaj.\n",
    "2. Tabelu sortiraj po svakoj koloni prvo u opadajućem pa potom u rastućem redosledu. Svaki od 6 rezultata sortiranja sačuvaj u posebnu promenljivu. Prikaži sortirane tabele.\n",
    "3. Iz tabele *BrojStanovnika* izdvoj gradove koji imaju više od 50000 stanovnika u užem području. Rezultat sačuvaj u promenljivu *VelikiGradovi* a potom prikaži te gradove.\n",
    "4. Kopiraj kod iz prethodnog zadatka u novu ćeliju pa pomoću dodatne zagrade kojom ćeš obuhvatiti zadati kriterijum i postavljanjem operatora negacije (~) ispred nje, izdvoj gradove koji ne ispunjavaju navedeni uslov. Rezultat sačuvaj u promenljivu *MaliGradovi* i prikaži njen sadržaj.\n",
    "5. Iz tabele izdvoj gradove čiji je broj stanovnika veći od 100000 u užem i u širem području. Rezultat sačuvaj u promenljivu *NajvećiGradovi* i prikaži njen sadržaj."
   ]
  },
  {
   "cell_type": "code",
   "execution_count": null,
   "metadata": {},
   "outputs": [],
   "source": []
  },
  {
   "cell_type": "code",
   "execution_count": null,
   "metadata": {},
   "outputs": [],
   "source": []
  },
  {
   "cell_type": "code",
   "execution_count": null,
   "metadata": {},
   "outputs": [],
   "source": []
  },
  {
   "cell_type": "code",
   "execution_count": null,
   "metadata": {},
   "outputs": [],
   "source": []
  },
  {
   "cell_type": "markdown",
   "metadata": {},
   "source": [
    "### Treći zadatak\n",
    "1. Sa našeg *GitHub* repozitorijuma (https://github.com/vulkanznanje/Fajlovi) uvezi tabelu iz **CSV** fajla *Reke u Srbiji*. Sačuvaj je u promenljivu *RekeSrbije* i prikaži njen sadržaj.\n",
    "2. Tabelu sortiraj po nazivu reke u rastućem redosledu. \n",
    "3. Tabelu sortiraj po koloni *Dužina* u neopadajućem redosledu, pa po koloni *Površina* u nerastućem redosledu. Rezultat sortiranja sačuvaj u promenljivu pod nazivom SortRekeDP. Prikaži sortiranu tabelu.\n",
    "4. Tabelu sortiraj po koloni *Dužina* u nerastućem redosledu, pa po koloni *Površina* u neopadajućem redosledu. Rezultat sortiranja sačuvaj u promenljivu pod nazivom SortRekeDP2. Prikaži sortiranu tabelu.\n",
    "5. Tabelu sortiraj po koloni *Površina* u neopadajućem redosledu, pa po koloni *Dužina* u nerastućem redosledu. Rezultat sortiranja sačuvaj u promenljivu pod nazivom SortRekePD. Prikaži sortiranu tabelu.\n",
    "6. Tabelu sortiraj po koloni *Površina* u nerastućem redosledu, pa po koloni *Dužina* u neopadajućem redosledu. Rezultat sortiranja sačuvaj u promenljivu pod nazivom SortRekePD2. Prikaži sortiranu tabelu.\n",
    "7. Tabelu sortiraj po koloni *Dužina* u neopadajućem redosledu, pa po koloni *Površina* u neopadajućem, pa po koloni *Reka* u opadajućem redosledu. Rezultat sortiranja sačuvaj u promenljivu pod nazivom SortRekeDPR. Prikaži sortiranu tabelu.\n",
    "8. Tabelu sortiraj po koloni *Dužina* u nerastućem redosledu, pa po koloni *Površina* u nerastućem, pa po koloni *Reka* u rastućem redosledu. Rezultat sortiranja sačuvaj u promenljivu pod nazivom SortRekeDPR2. Prikaži sortiranu tabelu.\n",
    "9. Tabelu sortiraj po koloni *Površina* u neopadajućem redosledu, pa po koloni *Dužina* u neopadajućem, pa po koloni *Reka* u opadajućem redosledu. Rezultat sortiranja sačuvaj u promenljivu pod nazivom SortRekePDR. Prikaži sortiranu tabelu.\n",
    "10. Tabelu sortiraj po koloni *Površina* u nerastućem redosledu, pa po koloni *Dužina* u nerastućem, pa po koloni *Reka* u rastućem redosledu. Rezultat sortiranja sačuvaj u promenljivu pod nazivom SortRekePDR2. Prikaži sortiranu tabelu.\n",
    "11. Iz tabele *RekeSrbije* izdvoj kraće od 100 km. Rezultat sačuvaj u promenljivoj *MaleReke* a potom ih prikaži.\n",
    "12. Iz tabele *RekeSrbije* izdvoj reke dužine između 200 i 400 km. Rezultat sačuvaj u promenljivoj *VećeReke* a potom ih prikaži.\n",
    "13. Iz tabele *RekeSrbije* izdvoj reke duže od 400 km. Rezultat sačuvaj u promenljivoj *VelikeReke* a potom ih prikaži.\n",
    "14. Iz tabele *RekeSrbije* izdvoj reke čija je dužina veća od 400 km **ili** čija je površina manja od 1000 km. Rezultat sačuvaj u promenljivoj *RekeOR* a potom ih prikaži."
   ]
  },
  {
   "cell_type": "code",
   "execution_count": null,
   "metadata": {},
   "outputs": [],
   "source": []
  },
  {
   "cell_type": "code",
   "execution_count": null,
   "metadata": {},
   "outputs": [],
   "source": []
  },
  {
   "cell_type": "code",
   "execution_count": null,
   "metadata": {},
   "outputs": [],
   "source": []
  },
  {
   "cell_type": "code",
   "execution_count": null,
   "metadata": {},
   "outputs": [],
   "source": []
  }
 ],
 "metadata": {
  "kernelspec": {
   "display_name": "Python 3",
   "language": "python",
   "name": "python3"
  },
  "language_info": {
   "codemirror_mode": {
    "name": "ipython",
    "version": 3
   },
   "file_extension": ".py",
   "mimetype": "text/x-python",
   "name": "python",
   "nbconvert_exporter": "python",
   "pygments_lexer": "ipython3",
   "version": "3.7.4"
  }
 },
 "nbformat": 4,
 "nbformat_minor": 2
}
